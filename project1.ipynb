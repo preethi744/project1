{
  "nbformat": 4,
  "nbformat_minor": 0,
  "metadata": {
    "colab": {
      "name": "project1.ipynb",
      "provenance": [],
      "collapsed_sections": []
    },
    "kernelspec": {
      "name": "python3",
      "display_name": "Python 3"
    }
  },
  "cells": [
    {
      "cell_type": "code",
      "metadata": {
        "id": "RtuTsmuS3xqe",
        "colab_type": "code",
        "colab": {}
      },
      "source": [
        "import pandas as pd\n",
        "from bs4 import BeautifulSoup\n",
        "import requests\n",
        "import csv"
      ],
      "execution_count": 0,
      "outputs": []
    },
    {
      "cell_type": "code",
      "metadata": {
        "id": "lUbA7jQW31yC",
        "colab_type": "code",
        "colab": {}
      },
      "source": [
        "url='https://www.4icu.org/in/a-z/'\n",
        "response=requests.get('https://www.4icu.org/in/a-z/').text\n",
        "soup=BeautifulSoup(response)\n",
        "data=soup.find('div',{'class':'table-responsive'})\n",
        "data1=data.find('tbody')\n",
        "a=[]\n",
        "for tr in data1.find_all('tr'):\n",
        "    b={}\n",
        "    b['Name']=tr.a.text\n",
        "    b['Rank']=tr.td.b.text\n",
        "    b['Link']=url+tr.a['href']\n",
        "    b['Address']=tr.text.split('\\n')[3]\n",
        "    a.append(b)\n",
        "clg_details=pd.DataFrame(a)\n",
        "filename='clg_details.csv'\n",
        "with open(filename,'w',newline='') as f:\n",
        "    w=csv.DictWriter(f,['Rank','Name','Link','Address'])\n",
        "    w.writeheader()\n",
        "    for b in a:\n",
        "        w.writerow(b)"
      ],
      "execution_count": 0,
      "outputs": []
    },
    {
      "cell_type": "code",
      "metadata": {
        "id": "siJK2_w437DM",
        "colab_type": "code",
        "colab": {}
      },
      "source": [
        ""
      ],
      "execution_count": 0,
      "outputs": []
    }
  ]
}